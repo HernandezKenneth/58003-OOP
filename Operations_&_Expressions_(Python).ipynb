{
  "nbformat": 4,
  "nbformat_minor": 0,
  "metadata": {
    "colab": {
      "provenance": [],
      "authorship_tag": "ABX9TyM87wVDz6ILuVbFmTq2zWKy",
      "include_colab_link": true
    },
    "kernelspec": {
      "name": "python3",
      "display_name": "Python 3"
    },
    "language_info": {
      "name": "python"
    }
  },
  "cells": [
    {
      "cell_type": "markdown",
      "metadata": {
        "id": "view-in-github",
        "colab_type": "text"
      },
      "source": [
        "<a href=\"https://colab.research.google.com/github/HernandezKenneth/58003-OOP/blob/main/Operations_%26_Expressions_(Python).ipynb\" target=\"_parent\"><img src=\"https://colab.research.google.com/assets/colab-badge.svg\" alt=\"Open In Colab\"/></a>"
      ]
    },
    {
      "cell_type": "markdown",
      "source": [
        "Boolean Operators"
      ],
      "metadata": {
        "id": "qiQnabARhHYG"
      }
    },
    {
      "cell_type": "code",
      "execution_count": null,
      "metadata": {
        "colab": {
          "base_uri": "https://localhost:8080/"
        },
        "id": "Af7qMWXlg-Cj",
        "outputId": "00bf8ddb-1333-4350-d535-734157990857"
      },
      "outputs": [
        {
          "output_type": "stream",
          "name": "stdout",
          "text": [
            "True\n",
            "False\n",
            "False\n",
            "True\n"
          ]
        }
      ],
      "source": [
        "print(10>9)\n",
        "print(10==9)\n",
        "print(10<9)\n",
        "print(100==100)"
      ]
    },
    {
      "cell_type": "markdown",
      "source": [
        "bool() function"
      ],
      "metadata": {
        "id": "LDIBZRyNine2"
      }
    },
    {
      "cell_type": "code",
      "source": [
        "print(bool(5))\n",
        "print(bool(\"Thing\"))\n",
        "print(bool())\n",
        "print(bool(None))"
      ],
      "metadata": {
        "colab": {
          "base_uri": "https://localhost:8080/"
        },
        "id": "g4-SANRzikpl",
        "outputId": "7546d964-bb85-4c18-e805-15bf348f5a98"
      },
      "execution_count": null,
      "outputs": [
        {
          "output_type": "stream",
          "name": "stdout",
          "text": [
            "True\n",
            "True\n",
            "False\n",
            "False\n"
          ]
        }
      ]
    },
    {
      "cell_type": "code",
      "source": [
        "int(input())"
      ],
      "metadata": {
        "colab": {
          "base_uri": "https://localhost:8080/"
        },
        "id": "QJf_FW5cjM_V",
        "outputId": "8897baad-ff1c-4b56-b861-674edd89f537"
      },
      "execution_count": null,
      "outputs": [
        {
          "name": "stdout",
          "output_type": "stream",
          "text": [
            "5\n"
          ]
        },
        {
          "output_type": "execute_result",
          "data": {
            "text/plain": [
              "5"
            ]
          },
          "metadata": {},
          "execution_count": 21
        }
      ]
    },
    {
      "cell_type": "markdown",
      "source": [
        "Functions can return a boolean"
      ],
      "metadata": {
        "id": "ajj2IFZfjL32"
      }
    },
    {
      "cell_type": "code",
      "source": [
        "def myfunction():\n",
        "  return True\n",
        "print(myfunction()) "
      ],
      "metadata": {
        "colab": {
          "base_uri": "https://localhost:8080/"
        },
        "id": "8CKIvuzzjyTG",
        "outputId": "41ed196c-3353-4640-a8b7-4a0baf7fec78"
      },
      "execution_count": null,
      "outputs": [
        {
          "output_type": "stream",
          "name": "stdout",
          "text": [
            "True\n"
          ]
        }
      ]
    },
    {
      "cell_type": "markdown",
      "source": [
        "Python Operators"
      ],
      "metadata": {
        "id": "NZCsjNvMmRfe"
      }
    },
    {
      "cell_type": "code",
      "source": [
        "print(5+5)\n",
        "print(5-5)\n",
        "print(5*5)\n",
        "print(5/5)\n",
        "print(5%20)"
      ],
      "metadata": {
        "colab": {
          "base_uri": "https://localhost:8080/"
        },
        "id": "2Q74syD1mTit",
        "outputId": "d0e20dde-153d-406b-e342-ae7bcec4c9f6"
      },
      "execution_count": null,
      "outputs": [
        {
          "output_type": "stream",
          "name": "stdout",
          "text": [
            "10\n",
            "0\n",
            "25\n",
            "1.0\n",
            "5\n"
          ]
        }
      ]
    },
    {
      "cell_type": "markdown",
      "source": [
        "Bitwise Operators"
      ],
      "metadata": {
        "id": "MaM5u_Udm1VN"
      }
    },
    {
      "cell_type": "code",
      "source": [
        "a = 20\n",
        "b = 50\n",
        "print(a & b)\n",
        "print(a | b)\n",
        "print(a ^ b)\n",
        "print(a<<1)\n",
        "print(a>>1)\n",
        "print(a<<2)\n",
        "print(a>>2)"
      ],
      "metadata": {
        "colab": {
          "base_uri": "https://localhost:8080/"
        },
        "id": "BehGevAGm3pm",
        "outputId": "f3480718-8d8a-4128-c92d-b3ff8f39b85e"
      },
      "execution_count": null,
      "outputs": [
        {
          "output_type": "stream",
          "name": "stdout",
          "text": [
            "16\n",
            "54\n",
            "38\n",
            "40\n",
            "10\n",
            "80\n",
            "5\n"
          ]
        }
      ]
    },
    {
      "cell_type": "code",
      "source": [
        "print(b<<1)\n",
        "print(b>>1)\n",
        "print(b<<2)\n",
        "print(b>>2)"
      ],
      "metadata": {
        "colab": {
          "base_uri": "https://localhost:8080/"
        },
        "id": "E8PLrnB6qvgN",
        "outputId": "2f84b625-9858-41ef-f46c-5df81993f17e"
      },
      "execution_count": null,
      "outputs": [
        {
          "output_type": "stream",
          "name": "stdout",
          "text": [
            "100\n",
            "25\n",
            "200\n",
            "12\n"
          ]
        }
      ]
    },
    {
      "cell_type": "markdown",
      "source": [
        "Assignment Operators"
      ],
      "metadata": {
        "id": "37b8cNVyq8Bd"
      }
    },
    {
      "cell_type": "code",
      "source": [
        "x=10\n",
        "x+=5\n",
        "print(x)"
      ],
      "metadata": {
        "colab": {
          "base_uri": "https://localhost:8080/"
        },
        "id": "K8tmHyMnq7uV",
        "outputId": "15c9bd8e-57d5-48c0-e82b-c433629a794d"
      },
      "execution_count": null,
      "outputs": [
        {
          "output_type": "stream",
          "name": "stdout",
          "text": [
            "15\n"
          ]
        }
      ]
    },
    {
      "cell_type": "markdown",
      "source": [
        "Logical Operators"
      ],
      "metadata": {
        "id": "nbYrD4gqsAOl"
      }
    },
    {
      "cell_type": "code",
      "source": [
        "t = \"true\"\n",
        "s = \"false\"\n",
        "print(t and s)\n",
        "print(t or s)\n",
        "print(not(t or s))"
      ],
      "metadata": {
        "colab": {
          "base_uri": "https://localhost:8080/"
        },
        "id": "D7RZmAkpr8p-",
        "outputId": "807be8cf-a5b8-4b22-f1ec-90a0a800c2b3"
      },
      "execution_count": null,
      "outputs": [
        {
          "output_type": "stream",
          "name": "stdout",
          "text": [
            "false\n",
            "true\n",
            "False\n"
          ]
        }
      ]
    },
    {
      "cell_type": "code",
      "source": [
        "#is is not\n",
        "\n",
        "print(t is s)\n",
        "print(s is t)\n",
        "print(t is not s)\n",
        "print(s is not t)"
      ],
      "metadata": {
        "colab": {
          "base_uri": "https://localhost:8080/"
        },
        "id": "D1EnDuwhtDdU",
        "outputId": "fb853b0b-ba1e-4543-d852-da005ee15c16"
      },
      "execution_count": null,
      "outputs": [
        {
          "output_type": "stream",
          "name": "stdout",
          "text": [
            "False\n",
            "False\n",
            "True\n",
            "True\n"
          ]
        }
      ]
    },
    {
      "cell_type": "markdown",
      "source": [
        "#Application 1\n",
        "Create a standard calculator(MDAS)\n",
        "\n"
      ],
      "metadata": {
        "id": "TriPJwpZttil"
      }
    },
    {
      "cell_type": "markdown",
      "source": [],
      "metadata": {
        "id": "3mhVGmRWwaNd"
      }
    },
    {
      "cell_type": "code",
      "source": [
        "    print(\"1. Addition\")\n",
        "    print(\"2. Subtraction\")\n",
        "    print(\"3. Multiplication\")\n",
        "    print(\"4. Division\")\n",
        "    print(\"5. Exit\")\n",
        "    pick = int(input(\"Choose any number: \"))\n",
        "    if (pick>=1 and pick<=4):\n",
        "        print(\"Enter two numbers: \")\n",
        "        num1 = int(input())\n",
        "        num2 = int(input())\n",
        "        if pick == 1:\n",
        "            res = num1 + num2\n",
        "            print(\"Result = \", res)\n",
        "        elif pick == 2:\n",
        "            res = num1 - num2\n",
        "            print(\"Result = \", res)\n",
        "        elif pick == 3:\n",
        "            res = num1 * num2\n",
        "            print(\"Result = \", res)\n",
        "        else:\n",
        "            res = num1 / num2\n",
        "            print(\"Result = \", res)\n",
        "    elif pick == 5:\n",
        "        exit()\n",
        "    else:\n",
        "        print(\"Invalid input.\")"
      ],
      "metadata": {
        "colab": {
          "base_uri": "https://localhost:8080/"
        },
        "id": "VA_0u0eBtvvt",
        "outputId": "f7057934-e9a2-4199-a9b5-78e8b2c3ae5b"
      },
      "execution_count": 1,
      "outputs": [
        {
          "name": "stdout",
          "output_type": "stream",
          "text": [
            "1. Addition\n",
            "2. Subtraction\n",
            "3. Multiplication\n",
            "4. Division\n",
            "5. Exit\n",
            "Choose any number: 5\n"
          ]
        }
      ]
    }
  ]
}