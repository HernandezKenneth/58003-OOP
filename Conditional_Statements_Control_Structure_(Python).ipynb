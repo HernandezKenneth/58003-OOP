{
  "nbformat": 4,
  "nbformat_minor": 0,
  "metadata": {
    "colab": {
      "provenance": [],
      "authorship_tag": "ABX9TyN8+ptDOgrVyJt4Eoqcz5NP",
      "include_colab_link": true
    },
    "kernelspec": {
      "name": "python3",
      "display_name": "Python 3"
    },
    "language_info": {
      "name": "python"
    }
  },
  "cells": [
    {
      "cell_type": "markdown",
      "metadata": {
        "id": "view-in-github",
        "colab_type": "text"
      },
      "source": [
        "<a href=\"https://colab.research.google.com/github/HernandezKenneth/58003-OOP/blob/main/Conditional_Statements_Control_Structure_(Python).ipynb\" target=\"_parent\"><img src=\"https://colab.research.google.com/assets/colab-badge.svg\" alt=\"Open In Colab\"/></a>"
      ]
    },
    {
      "cell_type": "markdown",
      "source": [
        "if, elif & else Condition"
      ],
      "metadata": {
        "id": "-wqjWTho6cwm"
      }
    },
    {
      "cell_type": "code",
      "execution_count": null,
      "metadata": {
        "colab": {
          "base_uri": "https://localhost:8080/"
        },
        "id": "dZ_5fs_p5AGY",
        "outputId": "6ed4f64f-c82d-499a-ab2e-b381717495df"
      },
      "outputs": [
        {
          "output_type": "stream",
          "name": "stdout",
          "text": [
            "x is equal to y\n"
          ]
        }
      ],
      "source": [
        "x = 50\n",
        "y = 50\n",
        "if x<y:\n",
        "  print(\"x is less than y\")\n",
        "elif x>y:\n",
        "  print(\"x is greater than y\")\n",
        "else:\n",
        "  print(\"x is equal to y\")"
      ]
    },
    {
      "cell_type": "markdown",
      "source": [
        "Application 1 - create a python program that will compare the student's education level"
      ],
      "metadata": {
        "id": "FxBVp2Km-cXE"
      }
    },
    {
      "cell_type": "code",
      "source": [
        "print(\"Determine the grade level of a student\")\n",
        "print(\"Grade 1-6 - Primary\")\n",
        "print(\"Grade 7-12 - Secondary\")\n",
        "print(\"Not in the choices above - Tertiary\")\n",
        "x = int(input())\n",
        "if x<=6:\n",
        "  print(\"Primary level\")\n",
        "elif x<=12:\n",
        "    print(\"Secondary level\")\n",
        "else:\n",
        "   print(\"Tertiary level\")"
      ],
      "metadata": {
        "id": "O5pnWPaX-b00",
        "colab": {
          "base_uri": "https://localhost:8080/"
        },
        "outputId": "73436bcd-45e2-4fda-f025-affb455ed27f"
      },
      "execution_count": 14,
      "outputs": [
        {
          "output_type": "stream",
          "name": "stdout",
          "text": [
            "Determine the grade level of a student\n",
            "Grade 1-6 - Primary\n",
            "Grade 7-12 - Secondary\n",
            "Not in the choices above - Tertiary\n",
            "8\n",
            "Secondary level\n"
          ]
        }
      ]
    },
    {
      "cell_type": "code",
      "source": [
        "x = 10\n",
        "y = 5\n",
        "print(\"x is less than y\") if x<y else print(\"x is greater than y\")"
      ],
      "metadata": {
        "colab": {
          "base_uri": "https://localhost:8080/"
        },
        "id": "94qnaDqICZYT",
        "outputId": "a997d0e0-4aee-42cf-ff43-d72c176e23f1"
      },
      "execution_count": 22,
      "outputs": [
        {
          "output_type": "stream",
          "name": "stdout",
          "text": [
            "x is greater than y\n"
          ]
        }
      ]
    },
    {
      "cell_type": "code",
      "source": [
        "x = 50\n",
        "if x>10:\n",
        "  print(\"above ten\")\n",
        "  if x>20:\n",
        "    print(\"and above twenty\")\n",
        "    if x>30:\n",
        "      print(\"and above thirty\")\n",
        "      if x>40:\n",
        "        print(\"and above fourty\")\n",
        "        if x>50:\n",
        "          print(\"and above 50\")\n",
        "        else:\n",
        "          print(\"but below 50\")\n",
        "      else:\n",
        "        print(\"but below fourty\")\n",
        "    else:\n",
        "      print(\"but below thirty\")\n",
        "  else:\n",
        "    print(\"but below twenty\")\n",
        "else:\n",
        "  print(\"but below ten\")"
      ],
      "metadata": {
        "colab": {
          "base_uri": "https://localhost:8080/"
        },
        "id": "Nc4-8sOkDc0U",
        "outputId": "97a52069-ad80-435d-8627-87b1c9b33926"
      },
      "execution_count": 41,
      "outputs": [
        {
          "output_type": "stream",
          "name": "stdout",
          "text": [
            "above ten\n",
            "and above twenty\n",
            "and above thirty\n",
            "and above fourty\n",
            "but below 50\n"
          ]
        }
      ]
    },
    {
      "cell_type": "markdown",
      "source": [
        "Example 1"
      ],
      "metadata": {
        "id": "xCjqR5g_MEHR"
      }
    },
    {
      "cell_type": "code",
      "source": [
        "print(\"Input your age\")\n",
        "x=int(input())\n",
        "print(\"Not qualified to vote\") if x<18 else print(\"Qualified to vote\")"
      ],
      "metadata": {
        "colab": {
          "base_uri": "https://localhost:8080/"
        },
        "id": "EKWtIX8UKiAC",
        "outputId": "03903aba-2667-4b57-f723-0935147398b6"
      },
      "execution_count": 88,
      "outputs": [
        {
          "output_type": "stream",
          "name": "stdout",
          "text": [
            "Input your age\n",
            "20\n",
            "Qualified to vote\n"
          ]
        }
      ]
    },
    {
      "cell_type": "markdown",
      "source": [
        "Example 2"
      ],
      "metadata": {
        "id": "IrJn_tnnMFBh"
      }
    },
    {
      "cell_type": "code",
      "source": [
        "print(\"Input number\")\n",
        "x = int(input())\n",
        "if x==0:\n",
        "  print(\"Number is zero\")\n",
        "elif x>0:\n",
        "  print(\"Number is positive\")\n",
        "else:\n",
        "  print(\"Number is negative\")"
      ],
      "metadata": {
        "colab": {
          "base_uri": "https://localhost:8080/"
        },
        "id": "4rsnhhgkLuli",
        "outputId": "58d26d03-a666-4b59-f84d-f8ee3bc6a6a3"
      },
      "execution_count": 53,
      "outputs": [
        {
          "output_type": "stream",
          "name": "stdout",
          "text": [
            "Input number\n",
            "-10\n",
            "Number is negative\n"
          ]
        }
      ]
    },
    {
      "cell_type": "code",
      "source": [
        "Example 3"
      ],
      "metadata": {
        "id": "2iFg0uLPM7fa"
      },
      "execution_count": null,
      "outputs": []
    },
    {
      "cell_type": "code",
      "source": [
        "print(\"grade >= 70 | Passed\")\n",
        "print(\"grade 65-69 | Remedial\")\n",
        "print(\"grade <=64 | Failed\")\n",
        "print(\"Input grade:\")\n",
        "x = int(input())\n",
        "y = int(input())\n",
        "z = int(input())\n",
        "average = (x*0.30 + y*0.30 + z*0.40)\n",
        "print(\"Average grade is\",average)\n",
        "if average>70:\n",
        "  print(\"Passed!\")\n",
        "elif average>69:\n",
        "  print(\"Remedial\")\n",
        "elif average>65:\n",
        "  print(\"Failed\")"
      ],
      "metadata": {
        "colab": {
          "base_uri": "https://localhost:8080/"
        },
        "id": "p8_lVJv1M8fp",
        "outputId": "943654b0-f98e-484b-e07f-43339471e420"
      },
      "execution_count": 87,
      "outputs": [
        {
          "output_type": "stream",
          "name": "stdout",
          "text": [
            "grade >= 70 | Passed\n",
            "grade 65-69 | Remedial\n",
            "grade <=64 | Failed\n",
            "Input grade:\n",
            "70\n",
            "60\n",
            "70\n",
            "Average grade is 67.0\n",
            "Failed\n"
          ]
        }
      ]
    }
  ]
}