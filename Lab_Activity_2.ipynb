{
  "nbformat": 4,
  "nbformat_minor": 0,
  "metadata": {
    "colab": {
      "provenance": [],
      "authorship_tag": "ABX9TyOs1qeTklz7W3mvdnMc/oN2",
      "include_colab_link": true
    },
    "kernelspec": {
      "name": "python3",
      "display_name": "Python 3"
    },
    "language_info": {
      "name": "python"
    }
  },
  "cells": [
    {
      "cell_type": "markdown",
      "metadata": {
        "id": "view-in-github",
        "colab_type": "text"
      },
      "source": [
        "<a href=\"https://colab.research.google.com/github/HernandezKenneth/58003-OOP/blob/main/Lab_Activity_2.ipynb\" target=\"_parent\"><img src=\"https://colab.research.google.com/assets/colab-badge.svg\" alt=\"Open In Colab\"/></a>"
      ]
    },
    {
      "cell_type": "markdown",
      "source": [
        "**Write a Python program that asks the user to enter the radius of a circle and solve its area and perimeter.**"
      ],
      "metadata": {
        "id": "hAN5xbdLYNNP"
      }
    },
    {
      "cell_type": "code",
      "execution_count": 1,
      "metadata": {
        "colab": {
          "base_uri": "https://localhost:8080/"
        },
        "id": "QeKEJicWX-lt",
        "outputId": "1391f1e8-e8c2-4812-b317-d028388cbdf4"
      },
      "outputs": [
        {
          "output_type": "stream",
          "name": "stdout",
          "text": [
            "Enter the radius of the circle: 2\n",
            "The area of the circle is: 12.5663706\n",
            "The perimeter of the circle is: 12.5663706\n"
          ]
        }
      ],
      "source": [
        "radius = float(input(\"Enter the radius of the circle: \"))\n",
        "\n",
        "area = 3.14159265 * (radius ** 2)\n",
        "perimeter = 2 * 3.14159265 * radius\n",
        "\n",
        "print(\"The area of the circle is:\", area)\n",
        "print(\"The perimeter of the circle is:\", perimeter)"
      ]
    },
    {
      "cell_type": "markdown",
      "source": [
        "**Create a class name Circle allowing you to build a circle with radius and pi attributes.**"
      ],
      "metadata": {
        "id": "SzsSWCeeY0XK"
      }
    },
    {
      "cell_type": "code",
      "source": [
        "class Circle:\n",
        "    def __init__(self, radius, pi=3.14159):\n",
        "        self.radius = radius\n",
        "        self.pi = pi\n",
        "    \n",
        "    def area(self):\n",
        "        return self.pi * (self.radius ** 2)\n",
        "    \n",
        "    def circumference(self):\n",
        "        return 2 * self.pi * self.radius\n",
        "        \n",
        "my_circle = Circle(radius=5, pi=3.14)\n",
        "print(my_circle.area())\n",
        "print(my_circle.circumference())"
      ],
      "metadata": {
        "colab": {
          "base_uri": "https://localhost:8080/"
        },
        "id": "vEjmbNxQY0H7",
        "outputId": "adb3c997-c76a-45a2-b3e3-aba5aa42b3a1"
      },
      "execution_count": 4,
      "outputs": [
        {
          "output_type": "stream",
          "name": "stdout",
          "text": [
            "78.5\n",
            "31.400000000000002\n"
          ]
        }
      ]
    },
    {
      "cell_type": "markdown",
      "source": [
        "**Create a method Display() the perimeter and area using an instantiation of a class.**"
      ],
      "metadata": {
        "id": "nlEHblZKZkgd"
      }
    },
    {
      "cell_type": "code",
      "source": [
        "class Rectangle:\n",
        "    def __init__(self, width, height):\n",
        "        self.width = width\n",
        "        self.height = height\n",
        "\n",
        "    def perimeter(self):\n",
        "        return 2 * (self.width + self.height)\n",
        "\n",
        "    def area(self):\n",
        "        return self.width * self.height\n",
        "\n",
        "    def display(self):\n",
        "        print(\"Perimeter: \", self.perimeter())\n",
        "        print(\"Area: \", self.area())\n",
        "\n",
        "rect = Rectangle(5, 10)\n",
        "\n",
        "rect.display()"
      ],
      "metadata": {
        "colab": {
          "base_uri": "https://localhost:8080/"
        },
        "id": "8I7ok4ngZkUT",
        "outputId": "f83c5dfd-7de8-4b03-f712-dd69347afc4b"
      },
      "execution_count": 5,
      "outputs": [
        {
          "output_type": "stream",
          "name": "stdout",
          "text": [
            "Perimeter:  30\n",
            "Area:  50\n"
          ]
        }
      ]
    },
    {
      "cell_type": "markdown",
      "source": [
        "**Create a Perimeter() method to calculate the perimeter of the circle and an Area() method to calculate the area of ​​the circle.**"
      ],
      "metadata": {
        "id": "O0pHRbTnbVhi"
      }
    },
    {
      "cell_type": "code",
      "source": [
        "class Circle:\n",
        "    def __init__(self, radius):\n",
        "        self.radius = radius\n",
        "\n",
        "    def perimeter(self):\n",
        "        return 2 * 3.14 * self.radius\n",
        "\n",
        "    def area(self):\n",
        "        return 3.14 * self.radius ** 2\n",
        "\n",
        "my_circle = Circle(5)\n",
        "print(my_circle.perimeter())\n",
        "print(my_circle.area())"
      ],
      "metadata": {
        "colab": {
          "base_uri": "https://localhost:8080/"
        },
        "id": "3D5vGluKbVZ8",
        "outputId": "42f82096-4432-4ed4-e459-e5f838b35a85"
      },
      "execution_count": 6,
      "outputs": [
        {
          "output_type": "stream",
          "name": "stdout",
          "text": [
            "31.400000000000002\n",
            "78.5\n"
          ]
        }
      ]
    }
  ]
}